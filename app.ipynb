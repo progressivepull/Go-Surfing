{
 "cells": [
  {
   "cell_type": "code",
   "execution_count": 2,
   "id": "0912995f-58a4-4ead-b99f-df7fd6eccc41",
   "metadata": {},
   "outputs": [],
   "source": [
    "import numpy as np"
   ]
  },
  {
   "cell_type": "markdown",
   "id": "1cc7b9a6-a578-4840-8efc-bd04a08f0344",
   "metadata": {},
   "source": [
    "# Define the sigmoid activation function"
   ]
  },
  {
   "cell_type": "markdown",
   "id": "2eb7dee6-f553-4953-9749-215fe0eeea66",
   "metadata": {},
   "source": [
    "**What is the Sigmoid Function?**\n",
    "The sigmoid function maps any real-valued number to a value between 0 and 1. Its formula is:\n",
    "\n",
    "$$\n",
    "\\sigma(x) = \\frac{1}{1 + e^{-x}}\n",
    "$$\n",
    "Where:\n",
    "\n",
    "x is the input (can be a scalar, vector, or matrix)\n",
    "\n",
    "e is Euler’s number (approximately 2.718)\n",
    "\n",
    "$ \\sigma(x)$ is the output, always between 0 and 1"
   ]
  },
  {
   "cell_type": "markdown",
   "id": "9bb6cb1d-fc9a-42dc-8d9f-756456ec8dcf",
   "metadata": {},
   "source": [
    "## Why Use It?\n",
    "**Probability Output**: It’s often used to convert a model’s raw output into a probability.\n",
    "\n",
    "**Smooth Gradient:** It has a smooth derivative, which is useful for optimization algorithms like gradient descent.\n",
    "\n",
    "**Binary Classification:** In logistic regression, it helps decide between two classes (e.g., spam vs. not spam)."
   ]
  },
  {
   "cell_type": "code",
   "execution_count": 3,
   "id": "3fd1b417-895d-4217-9709-faaefa6ea9ad",
   "metadata": {},
   "outputs": [],
   "source": [
    "def sigmoid(x):\n",
    "    return 1 / (1 + np.exp(-x))"
   ]
  },
  {
   "cell_type": "markdown",
   "id": "5c2ddc4a-5965-489d-bdbc-c5a8297307ed",
   "metadata": {},
   "source": [
    "# Define the structure of the neural network\n",
    "* Input layer: X1, X2, X3\n",
    "* Hidden layers: Two layers with weights and biases\n",
    "* Output layer: Single output node"
   ]
  },
  {
   "cell_type": "markdown",
   "id": "cccde458-44d0-4313-9af3-47f5b0354445",
   "metadata": {},
   "source": [
    "# Input variables (1 = yes, 0 = no)"
   ]
  },
  {
   "cell_type": "code",
   "execution_count": 4,
   "id": "a24cada7-1ce8-44a0-8f54-4f8ad09cb0bc",
   "metadata": {},
   "outputs": [],
   "source": [
    "inputs = np.array([1, 0, 1])  # X1 = Good waves, X2 = Empty lineup, X3 = Shark-free zone"
   ]
  },
  {
   "cell_type": "markdown",
   "id": "4bb9bb58-07b6-48dc-9db5-d1a8a3d5ab45",
   "metadata": {},
   "source": [
    "# Weights for the first hidden layer (3 inputs, 4 neurons in the first hidden layer)"
   ]
  },
  {
   "cell_type": "code",
   "execution_count": 5,
   "id": "18a178fe-e57e-491c-82b5-6aa5e5edaa3a",
   "metadata": {},
   "outputs": [],
   "source": [
    "weights_hidden1 = np.array([\n",
    "    [0.5, 0.2, 0.1, 0.4],  # Weights for X1\n",
    "    [0.3, 0.8, 0.5, 0.7],  # Weights for X2\n",
    "    [0.6, 0.1, 0.3, 0.9]   # Weights for X3\n",
    "])"
   ]
  },
  {
   "cell_type": "markdown",
   "id": "7a5e5c13-5d8e-41cc-a86d-467aad0e695d",
   "metadata": {},
   "source": [
    "# Biases for the first hidden layer"
   ]
  },
  {
   "cell_type": "code",
   "execution_count": 6,
   "id": "bab7ebe2-3ada-40ef-b988-cf38fcb4a0da",
   "metadata": {},
   "outputs": [],
   "source": [
    "bias_hidden1 = np.array([0.1, 0.2, 0.3, 0.1])  "
   ]
  },
  {
   "cell_type": "markdown",
   "id": "daf3b824-7b4d-4fc2-b041-0f62c6f3f38a",
   "metadata": {},
   "source": [
    "# Weights for the second hidden layer (4 inputs, 3 neurons in the second hidden layer)"
   ]
  },
  {
   "cell_type": "code",
   "execution_count": 7,
   "id": "984e5400-2d39-4dcc-a40a-39043a1df4cb",
   "metadata": {},
   "outputs": [],
   "source": [
    "weights_hidden2 = np.array([\n",
    "    [0.5, 0.3, 0.6],\n",
    "    [0.8, 0.2, 0.9],\n",
    "    [0.4, 0.7, 0.5],\n",
    "    [0.6, 0.1, 0.3]\n",
    "])"
   ]
  },
  {
   "cell_type": "markdown",
   "id": "e179dcfa-48bf-42ad-ad0f-321ee37d47e7",
   "metadata": {},
   "source": [
    "# Biases for the second hidden layer"
   ]
  },
  {
   "cell_type": "code",
   "execution_count": 8,
   "id": "05f7d919-92c5-4845-ab13-5d81ee9dc261",
   "metadata": {},
   "outputs": [],
   "source": [
    "bias_hidden2 = np.array([0.2, 0.1, 0.3])  "
   ]
  },
  {
   "cell_type": "markdown",
   "id": "274f2132-c1ca-41be-8798-7f739a5e0a83",
   "metadata": {},
   "source": [
    "# Weights for the output layer (3 inputs, 1 neuron in the output layer)"
   ]
  },
  {
   "cell_type": "code",
   "execution_count": 9,
   "id": "391ea18e-c224-41ba-bcbd-f41b47a21cb8",
   "metadata": {},
   "outputs": [],
   "source": [
    "weights_output = np.array([0.7, 0.5, 0.8])"
   ]
  },
  {
   "cell_type": "markdown",
   "id": "8b80ddaa-9bed-4054-8b37-ecfa23fe4ca0",
   "metadata": {},
   "source": [
    "# Bias for the output layer"
   ]
  },
  {
   "cell_type": "code",
   "execution_count": 10,
   "id": "1a5676ce-2d32-4940-9afa-8dc3a44c5230",
   "metadata": {},
   "outputs": [],
   "source": [
    "bias_output = -0.5  "
   ]
  },
  {
   "cell_type": "markdown",
   "id": "d3d102aa-59d3-4b4c-9366-e5d0ff5dc570",
   "metadata": {},
   "source": [
    "# Forward pass through the first hidden layer"
   ]
  },
  {
   "cell_type": "code",
   "execution_count": 11,
   "id": "9bf65289-77ae-4c29-a0df-1e423924d552",
   "metadata": {},
   "outputs": [],
   "source": [
    "hidden1_input = np.dot(inputs, weights_hidden1) + bias_hidden1"
   ]
  },
  {
   "cell_type": "markdown",
   "id": "c4b34bf5-e0d3-4c20-8173-9e30c77c4779",
   "metadata": {},
   "source": [
    " # Apply activation function"
   ]
  },
  {
   "cell_type": "code",
   "execution_count": 12,
   "id": "6b498ce7-8e66-415a-aedf-474747310669",
   "metadata": {},
   "outputs": [],
   "source": [
    "hidden1_output = sigmoid(hidden1_input) "
   ]
  },
  {
   "cell_type": "markdown",
   "id": "f19181ee-ee74-4e19-af73-751d0bb085d7",
   "metadata": {},
   "source": [
    "# Forward pass through the second hidden layer"
   ]
  },
  {
   "cell_type": "code",
   "execution_count": 13,
   "id": "b02aeee3-b1e6-4690-9b2d-2f00970615bf",
   "metadata": {},
   "outputs": [],
   "source": [
    "hidden2_input = np.dot(hidden1_output, weights_hidden2) + bias_hidden2"
   ]
  },
  {
   "cell_type": "markdown",
   "id": "9fc107f3-2a8b-4ad4-8088-742b8636a8e6",
   "metadata": {},
   "source": [
    " # Apply activation function"
   ]
  },
  {
   "cell_type": "code",
   "execution_count": 14,
   "id": "4738827a-a3f2-4636-b062-31e3caa8a40e",
   "metadata": {},
   "outputs": [],
   "source": [
    "hidden2_output = sigmoid(hidden2_input) "
   ]
  },
  {
   "cell_type": "markdown",
   "id": "a99aa954-9f75-45d3-9cfa-6f4484cab20a",
   "metadata": {},
   "source": [
    "# Forward pass through the output layer"
   ]
  },
  {
   "cell_type": "code",
   "execution_count": 15,
   "id": "56e12306-30b2-4959-93ca-1527a3cee4f1",
   "metadata": {},
   "outputs": [],
   "source": [
    "output_input = np.dot(hidden2_output, weights_output) + bias_output"
   ]
  },
  {
   "cell_type": "markdown",
   "id": "5a0bbfdc-2cde-4095-8a1a-1073b385c9e8",
   "metadata": {},
   "source": [
    "# Apply activation function"
   ]
  },
  {
   "cell_type": "code",
   "execution_count": 16,
   "id": "42afd90c-d4b3-4034-ad34-a17aba1a0c59",
   "metadata": {},
   "outputs": [],
   "source": [
    "output = sigmoid(output_input)  "
   ]
  },
  {
   "cell_type": "markdown",
   "id": "1284a4f0-0865-4e61-ad97-d86c6418a7ab",
   "metadata": {},
   "source": [
    "# Decision"
   ]
  },
  {
   "cell_type": "code",
   "execution_count": 17,
   "id": "19c2eff1-a532-4314-ad17-dbbc635679a9",
   "metadata": {},
   "outputs": [
    {
     "name": "stdout",
     "output_type": "stream",
     "text": [
      "Output: 1 (Decision: We’re going surfing!)\n"
     ]
    }
   ],
   "source": [
    "if output > 0.5:  # Using 0.5 as the threshold\n",
    "    print(f\"Output: 1 (Decision: We’re going surfing!)\")\n",
    "else:\n",
    "    print(f\"Output: 0 (Decision: No surfing today.)\")"
   ]
  },
  {
   "cell_type": "markdown",
   "id": "5669e871-e5ea-47d0-8329-cb92cb39cfd5",
   "metadata": {},
   "source": [
    "# Display the computed value"
   ]
  },
  {
   "cell_type": "code",
   "execution_count": 18,
   "id": "38ae0c8f-b0d4-46a5-a650-d6fcc45c5b74",
   "metadata": {},
   "outputs": [
    {
     "name": "stdout",
     "output_type": "stream",
     "text": [
      "Output value (Y_hat): 0.762182530316983\n"
     ]
    }
   ],
   "source": [
    "print(f\"Output value (Y_hat): {output}\")"
   ]
  },
  {
   "cell_type": "code",
   "execution_count": null,
   "id": "017ddbcd-6fa6-4120-8cc2-10caa5a3fd68",
   "metadata": {},
   "outputs": [],
   "source": []
  }
 ],
 "metadata": {
  "kernelspec": {
   "display_name": "Python [conda env:base] *",
   "language": "python",
   "name": "conda-base-py"
  },
  "language_info": {
   "codemirror_mode": {
    "name": "ipython",
    "version": 3
   },
   "file_extension": ".py",
   "mimetype": "text/x-python",
   "name": "python",
   "nbconvert_exporter": "python",
   "pygments_lexer": "ipython3",
   "version": "3.12.3"
  }
 },
 "nbformat": 4,
 "nbformat_minor": 5
}
